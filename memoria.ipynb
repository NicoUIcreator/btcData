{
 "cells": [
  {
   "cell_type": "code",
   "execution_count": 4,
   "metadata": {},
   "outputs": [],
   "source": [
    "import pandas as pd\n",
    "\n",
    "import matplotlib.pyplot as plt\n",
    "import seaborn as sns\n",
    "import plotly.graph_objs as go\n",
    "from plotly.offline import iplot\n",
    "import cufflinks as cf\n",
    "import sys\n",
    "sys.path.append('../utils/')\n",
    "import funciones as f"
   ]
  },
  {
   "cell_type": "code",
   "execution_count": null,
   "metadata": {},
   "outputs": [],
   "source": [
    "f.limpiezaBtcVsc"
   ]
  },
  {
   "cell_type": "code",
   "execution_count": 6,
   "metadata": {},
   "outputs": [],
   "source": [
    "bitcoinHistoryData= pd.read_csv(\"data/BtcHistoricalDataDaily2010-2024.csv\")\n",
    "\n",
    "dfSP500Historical=pd.read_csv(\"data/S&P500HistoricalData.csv\")\n",
    "\n",
    "googleTrendFullVolume=pd.read_csv(\"data/bitcoin-timeline_Glimpse_Google-TrendsVER.csv\")\n",
    "\n",
    "googleTrendFull=pd.read_csv(\"data/bitcoin-timeline_Glimpse_Google-TrendsTOTAL.csv\")"
   ]
  },
  {
   "cell_type": "code",
   "execution_count": 7,
   "metadata": {},
   "outputs": [],
   "source": [
    "bitcoinHistoryData.set_index(\"Date\",inplace=True)"
   ]
  },
  {
   "cell_type": "code",
   "execution_count": 8,
   "metadata": {},
   "outputs": [],
   "source": [
    "bitcoinHistoryData.index=pd.to_datetime(bitcoinHistoryData.index)"
   ]
  },
  {
   "cell_type": "code",
   "execution_count": 13,
   "metadata": {},
   "outputs": [],
   "source": [
    "dfBTCDaily= bitcoinHistoryData[[\"Price\",\"Open\",\"High\",\"Low\",\"Vol.\",\"Change %\"]].replace(to_replace=(\",\",\"%\"),value=\"\",regex=True).replace(to_replace=\"M\",value=\"0000\",regex=True).replace(to_replace=\"K\",value=\"0\",regex=True).replace(to_replace=\"B\",value=\"0000000\",regex=True).astype(float)"
   ]
  }
 ],
 "metadata": {
  "kernelspec": {
   "display_name": "Python 3",
   "language": "python",
   "name": "python3"
  },
  "language_info": {
   "codemirror_mode": {
    "name": "ipython",
    "version": 3
   },
   "file_extension": ".py",
   "mimetype": "text/x-python",
   "name": "python",
   "nbconvert_exporter": "python",
   "pygments_lexer": "ipython3",
   "version": "3.11.8"
  }
 },
 "nbformat": 4,
 "nbformat_minor": 2
}
